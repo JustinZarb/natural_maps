{
 "cells": [
  {
   "attachments": {},
   "cell_type": "markdown",
   "metadata": {},
   "source": [
    "# osmnx package"
   ]
  },
  {
   "cell_type": "code",
   "execution_count": null,
   "metadata": {},
   "outputs": [],
   "source": [
    "## explore the OSMnx package\n",
    "\n",
    "# pip install contextily\n",
    "\n",
    "import osmnx as ox\n",
    "import folium\n",
    "import contextily as cx\n",
    "import matplotlib.pyplot as plt"
   ]
  },
  {
   "cell_type": "code",
   "execution_count": null,
   "metadata": {},
   "outputs": [],
   "source": [
    "# This is using the Nominatim API to find the place by name and geocode it.\n",
    "# Nominatim is the search engine that powers the search bar on openstreetmap.org.\n",
    "\n",
    "PLACE_NAME = 'Charlottenburg, Charlottenburg-Wilmersdorf, Berlin, Germany'"
   ]
  },
  {
   "cell_type": "code",
   "execution_count": null,
   "metadata": {},
   "outputs": [],
   "source": [
    "## Show Charlottenburg road network\n",
    "\n",
    "G = ox.graph_from_place(PLACE_NAME, network_type='drive')\n",
    "ox.plot_graph(G) "
   ]
  },
  {
   "cell_type": "code",
   "execution_count": null,
   "metadata": {},
   "outputs": [],
   "source": [
    "# calculate the area of charlottenburg\n",
    "charlottenburg = ox.gdf_from_place(PLACE_NAME)\n",
    "charlottenburg_proj = ox.project_gdf(charlottenburg)\n",
    "area = charlottenburg_proj['geometry'].area[0]  # in sq meters\n",
    "print(area)"
   ]
  },
  {
   "cell_type": "code",
   "execution_count": null,
   "metadata": {},
   "outputs": [],
   "source": [
    "## plot the roads on a basemap\n",
    "ox.plot_graph_folium(G)"
   ]
  },
  {
   "cell_type": "code",
   "execution_count": null,
   "metadata": {},
   "outputs": [],
   "source": [
    "ox.graph_to_gdfs(G, nodes=False).explore()"
   ]
  },
  {
   "cell_type": "code",
   "execution_count": null,
   "metadata": {},
   "outputs": [],
   "source": [
    "## plot the bike network on a basemap\n",
    "\n",
    "# G = ox.graph_from_place(PLACE_NAME, network_type='bike')\n",
    "# type(G)\n",
    "# ox.plot_graph_folium(G)"
   ]
  },
  {
   "cell_type": "code",
   "execution_count": null,
   "metadata": {},
   "outputs": [],
   "source": [
    "## create edge and node dataframes from road graph object\n",
    "area,edges = ox.graph_to_gdfs(G)\n",
    "area.head(2)"
   ]
  },
  {
   "cell_type": "code",
   "execution_count": null,
   "metadata": {},
   "outputs": [],
   "source": [
    "edges.head(2)"
   ]
  },
  {
   "cell_type": "code",
   "execution_count": null,
   "metadata": {},
   "outputs": [],
   "source": [
    "area.explore()"
   ]
  },
  {
   "cell_type": "code",
   "execution_count": null,
   "metadata": {},
   "outputs": [],
   "source": [
    "## extract benches from the area\n",
    "\n",
    "benches = ox.geometries_from_place(PLACE_NAME, tags={'amenity':'bench'})\n",
    "benches.head(2)"
   ]
  },
  {
   "cell_type": "code",
   "execution_count": null,
   "metadata": {},
   "outputs": [],
   "source": [
    "type(benches)"
   ]
  },
  {
   "cell_type": "code",
   "execution_count": null,
   "metadata": {},
   "outputs": [],
   "source": [
    "## extract parks from the area\n",
    "\n",
    "parks = ox.geometries_from_place(PLACE_NAME, tags={'leisure':'park'})\n",
    "parks.head();\n",
    "# parks"
   ]
  },
  {
   "cell_type": "code",
   "execution_count": null,
   "metadata": {},
   "outputs": [],
   "source": [
    "## extract water fountains from the area\n",
    "\n",
    "water_fountains = ox.geometries_from_place(PLACE_NAME, tags={'amenity':'drinking_water'})\n",
    "water_fountains.head()\n"
   ]
  },
  {
   "cell_type": "code",
   "execution_count": null,
   "metadata": {},
   "outputs": [],
   "source": [
    "import geopandas as gpd\n",
    "type(water_fountains)"
   ]
  },
  {
   "cell_type": "code",
   "execution_count": null,
   "metadata": {},
   "outputs": [],
   "source": [
    "water_fountains.geometry[0]"
   ]
  },
  {
   "cell_type": "code",
   "execution_count": null,
   "metadata": {},
   "outputs": [],
   "source": [
    "# display the water fountains on a map\n",
    "m = folium.Map(location=[52.516667, 13.4], zoom_start=13)\n",
    "folium.GeoJson(water_fountains).add_to(m)\n",
    "m"
   ]
  },
  {
   "cell_type": "code",
   "execution_count": null,
   "metadata": {},
   "outputs": [],
   "source": [
    "# calculate the distance between water_fountains, osmid 449162399 and 449162395\n",
    "water_fountains.geometry[0].distance(water_fountains.geometry[1])"
   ]
  },
  {
   "cell_type": "code",
   "execution_count": null,
   "metadata": {},
   "outputs": [],
   "source": [
    "# calculate distance between water_fountains[0] and benches[0]\n",
    "water_fountains.geometry[0].distance(benches.geometry[0])"
   ]
  },
  {
   "cell_type": "code",
   "execution_count": null,
   "metadata": {},
   "outputs": [],
   "source": [
    "# calculate the area of parks[0]\n",
    "parks.geometry[0].area"
   ]
  },
  {
   "cell_type": "code",
   "execution_count": null,
   "metadata": {},
   "outputs": [],
   "source": [
    "## extract fuel stations from the area\n",
    "\n",
    "fuel_stations = ox.geometries_from_place(PLACE_NAME, {\"amenity\": \"fuel\"})\n",
    "fuel_stations.head();"
   ]
  },
  {
   "cell_type": "code",
   "execution_count": null,
   "metadata": {},
   "outputs": [],
   "source": [
    "## show all the fuel stations on the map\n",
    "\n",
    "area_crs = area.to_crs('3857')\n",
    "edges_crs = edges.to_crs('3857')\n",
    "fuel_stations_crs = fuel_stations.to_crs('3857')\n",
    "\n",
    "fig, ax = plt.subplots(figsize=(10, 14))\n",
    "area_crs.plot(ax=ax, facecolor='white')\n",
    "edges_crs.plot(ax=ax, linewidth=1, edgecolor='blue', alpha=0.5)\n",
    "fuel_stations_crs.plot(ax=ax, color='yellow', alpha=0.9, markersize=22)\n",
    "plt.tight_layout()\n",
    "cx.add_basemap(ax,crs=area_crs.crs.to_string())"
   ]
  },
  {
   "cell_type": "code",
   "execution_count": null,
   "metadata": {},
   "outputs": [],
   "source": [
    "## show all the parks on the map\n",
    "\n",
    "area_crs = area.to_crs('3857')\n",
    "edges_crs = edges.to_crs('3857')\n",
    "parks_crs = parks.to_crs('3857')\n",
    "\n",
    "fig, ax = plt.subplots(figsize=(10, 14))\n",
    "area_crs.plot(ax=ax, facecolor='white')\n",
    "edges_crs.plot(ax=ax, linewidth=1, edgecolor='blue', alpha=0.5)\n",
    "parks_crs.plot(ax=ax, color='yellow', alpha=0.9, markersize=22)\n",
    "plt.tight_layout()\n",
    "cx.add_basemap(ax,crs=area_crs.crs.to_string())"
   ]
  },
  {
   "cell_type": "code",
   "execution_count": null,
   "metadata": {},
   "outputs": [],
   "source": [
    "## show the benches on the map\n",
    "\n",
    "area_crs = area.to_crs('3857')\n",
    "edges_crs = edges.to_crs('3857')\n",
    "benches_crs = benches.to_crs('3857')\n",
    "\n",
    "fig, ax = plt.subplots(figsize=(10, 14))\n",
    "area_crs.plot(ax=ax, facecolor='white')\n",
    "edges_crs.plot(ax=ax, linewidth=1, edgecolor='blue', alpha=0.5)\n",
    "benches_crs.plot(ax=ax, color='yellow', alpha=0.9, markersize=22)\n",
    "plt.tight_layout()\n",
    "cx.add_basemap(ax,crs=area_crs.crs.to_string())\n",
    "\n"
   ]
  },
  {
   "cell_type": "code",
   "execution_count": null,
   "metadata": {},
   "outputs": [],
   "source": [
    "## geocode_to_gdf allows you to use nominatim api to geocode a place name.\n",
    "## https://osmnx.readthedocs.io/en/stable/osmnx.html#osmnx.geocoder.geocode_to_gdf\n",
    "\n",
    "origin = (\n",
    "    ox.geocode_to_gdf(\"zoologischer garten\")\n",
    "    .to_crs(edges.crs)  \n",
    "    .at[0, \"geometry\"]  \n",
    "    .centroid  \n",
    ")\n",
    "\n",
    "destination = (\n",
    "    ox.geocode_to_gdf(\"Charlottenburg, Berlin, Germany\")\n",
    "    .to_crs(edges.crs)\n",
    "    .at[0, \"geometry\"]\n",
    "    .centroid \n",
    ")\n",
    "\n",
    "origin_node_id = ox.nearest_nodes(G, origin.x, origin.y)\n",
    "destination_node_id = ox.nearest_nodes(G, destination.x, destination.y)"
   ]
  },
  {
   "cell_type": "code",
   "execution_count": null,
   "metadata": {},
   "outputs": [],
   "source": [
    "route = ox.shortest_path(G, origin_node_id, destination_node_id)\n",
    "route;"
   ]
  },
  {
   "cell_type": "code",
   "execution_count": null,
   "metadata": {},
   "outputs": [],
   "source": [
    "## create a route passes all the water fountains\n",
    "route = ox.shortest_path(G, origin_node_id, destination_node_id, weight=\"length\")\n",
    "route;"
   ]
  },
  {
   "cell_type": "code",
   "execution_count": null,
   "metadata": {},
   "outputs": [],
   "source": [
    "ox.plot_route_folium(G, route, route_linewidth=6, node_size=0)\n",
    "# ox.plot_route_folium(G, extended_route, route_linewidth=6, node_size=0)"
   ]
  },
  {
   "attachments": {},
   "cell_type": "markdown",
   "metadata": {},
   "source": [
    "# overpy package"
   ]
  },
  {
   "cell_type": "code",
   "execution_count": null,
   "metadata": {},
   "outputs": [],
   "source": [
    "# pip install overpy\n",
    "\n",
    "## running a single query without osmnx\n",
    "## use overpy to extract all the benches in a grid located around DSR\n",
    "\n",
    "import overpy\n",
    "api = overpy.Overpass()\n",
    "result = api.query(\"\"\"\n",
    "            [out:json];\n",
    "                node[\"amenity\"=\"bench\"](52.495,13.32,52.51,13.35);\n",
    "            out body;\n",
    "            >;\n",
    "            out skel qt;\n",
    "            \"\"\")\n",
    "\n",
    "len(result.nodes)\n",
    "## 222 benches in this area"
   ]
  },
  {
   "attachments": {},
   "cell_type": "markdown",
   "metadata": {},
   "source": [
    "# nominatim API"
   ]
  },
  {
   "cell_type": "code",
   "execution_count": null,
   "metadata": {},
   "outputs": [],
   "source": [
    "## use nominatim through osmnx\n",
    "\n",
    "# Geocode the location\n",
    "location = ox.geocode('Charlottenburg, Berlin, Germany')\n",
    "\n",
    "print(location)\n",
    "# (52.515747, 13.3096834)"
   ]
  },
  {
   "cell_type": "code",
   "execution_count": null,
   "metadata": {},
   "outputs": [],
   "source": []
  }
 ],
 "metadata": {
  "kernelspec": {
   "display_name": "base",
   "language": "python",
   "name": "python3"
  },
  "language_info": {
   "codemirror_mode": {
    "name": "ipython",
    "version": 3
   },
   "file_extension": ".py",
   "mimetype": "text/x-python",
   "name": "python",
   "nbconvert_exporter": "python",
   "pygments_lexer": "ipython3",
   "version": "3.11.4"
  },
  "orig_nbformat": 4
 },
 "nbformat": 4,
 "nbformat_minor": 2
}
