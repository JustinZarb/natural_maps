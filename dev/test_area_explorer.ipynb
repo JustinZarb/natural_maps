{
 "cells": [
  {
   "cell_type": "code",
   "execution_count": 1,
   "metadata": {},
   "outputs": [],
   "source": [
    "import osmnx as ox\n",
    "from streamlit_functions import get_nodes_with_tags_in_bbox, count_tag_frequency, gdf_data, count_tag_frequency_new"
   ]
  },
  {
   "cell_type": "code",
   "execution_count": 2,
   "metadata": {},
   "outputs": [
    {
     "data": {
      "text/html": [
       "<div>\n",
       "<style scoped>\n",
       "    .dataframe tbody tr th:only-of-type {\n",
       "        vertical-align: middle;\n",
       "    }\n",
       "\n",
       "    .dataframe tbody tr th {\n",
       "        vertical-align: top;\n",
       "    }\n",
       "\n",
       "    .dataframe thead th {\n",
       "        text-align: right;\n",
       "    }\n",
       "</style>\n",
       "<table border=\"1\" class=\"dataframe\">\n",
       "  <thead>\n",
       "    <tr style=\"text-align: right;\">\n",
       "      <th></th>\n",
       "      <th>geometry</th>\n",
       "      <th>bbox_north</th>\n",
       "      <th>bbox_south</th>\n",
       "      <th>bbox_east</th>\n",
       "      <th>bbox_west</th>\n",
       "      <th>place_id</th>\n",
       "      <th>osm_type</th>\n",
       "      <th>osm_id</th>\n",
       "      <th>lat</th>\n",
       "      <th>lon</th>\n",
       "      <th>display_name</th>\n",
       "      <th>class</th>\n",
       "      <th>type</th>\n",
       "      <th>importance</th>\n",
       "    </tr>\n",
       "  </thead>\n",
       "  <tbody>\n",
       "    <tr>\n",
       "      <th>0</th>\n",
       "      <td>POLYGON ((13.36823 52.49334, 13.36917 52.49315...</td>\n",
       "      <td>52.509382</td>\n",
       "      <td>52.482792</td>\n",
       "      <td>13.45293</td>\n",
       "      <td>13.368229</td>\n",
       "      <td>307579131</td>\n",
       "      <td>relation</td>\n",
       "      <td>55765</td>\n",
       "      <td>52.497644</td>\n",
       "      <td>13.411914</td>\n",
       "      <td>Kreuzberg, Friedrichshain-Kreuzberg, Berlin, G...</td>\n",
       "      <td>boundary</td>\n",
       "      <td>administrative</td>\n",
       "      <td>0.628946</td>\n",
       "    </tr>\n",
       "  </tbody>\n",
       "</table>\n",
       "</div>"
      ],
      "text/plain": [
       "                                            geometry  bbox_north  bbox_south  \\\n",
       "0  POLYGON ((13.36823 52.49334, 13.36917 52.49315...   52.509382   52.482792   \n",
       "\n",
       "   bbox_east  bbox_west   place_id  osm_type  osm_id        lat        lon  \\\n",
       "0   13.45293  13.368229  307579131  relation   55765  52.497644  13.411914   \n",
       "\n",
       "                                        display_name     class  \\\n",
       "0  Kreuzberg, Friedrichshain-Kreuzberg, Berlin, G...  boundary   \n",
       "\n",
       "             type  importance  \n",
       "0  administrative    0.628946  "
      ]
     },
     "execution_count": 2,
     "metadata": {},
     "output_type": "execute_result"
    }
   ],
   "source": [
    "places = [\"Kreuzberg\"]\n",
    "places_gdf = ox.geocode_to_gdf(places)\n",
    "# bbox = [S, W, N, E]\n",
    "bounding_boxes = places_gdf.loc[:, [\"bbox_south\", \"bbox_west\", \"bbox_north\", \"bbox_east\",]]\n",
    "places_gdf"
   ]
  },
  {
   "cell_type": "code",
   "execution_count": 7,
   "metadata": {},
   "outputs": [
    {
     "name": "stdout",
     "output_type": "stream",
     "text": [
      "{'name': 4954, 'contact': 2432, 'opening_hours': 2012, 'website': 1560, 'addr': 1417, 'ref': 992, 'phone': 779, 'operator': 734, 'check_date': 552, 'brand': 474, 'description': 420, 'image': 281, 'email': 260, 'note': 230, 'wikidata': 203, 'mapillary': 202, 'memorial': 184, 'direction': 170, 'wheelchair': 152, 'inscription': 144, 'seamark': 137, 'shop': 131, 'official_ref': 124, 'railway': 123, 'cuisine': 122, 'survey': 119, 'wikimedia_commons': 116, 'amenity': 116, 'disused': 109, 'camera': 107, 'wikipedia': 102, 'collection_times': 102, 'start_date': 89, 'source': 79, 'healthcare': 66, 'playground': 64, 'fixme': 62, 'capacity': 60, 'artist_name': 56, 'maxheight': 53, 'fax': 52, 'alt_name': 49, 'office': 46, 'subject': 42, 'short_name': 41, 'dance': 41, 'removed': 39, 'craft': 38, 'river': 34, 'sport': 33, 'bicycle_parking': 33, 'ele': 31, 'height': 31, 'diameter_crown': 31, 'old_name': 30, 'genus': 30, 'access': 29, 'obstacle_name': 28, 'species': 28, 'url': 27, 'maxwidth': 26, 'waterway': 26, 'ref_name': 26, 'man_made': 25, 'TMC': 24, 'barrier': 24, 'network': 24, 'internet_access': 23, 'leisure': 23, 'material': 21, 'official_name': 20, 'surveillance': 19, 'traffic_sign': 19, 'social_facility': 19, 'depth': 19, 'fire_hydrant': 19, 'object': 19, 'level': 18, 'maxsideheight': 18, 'colour': 18, 'postal_code': 18, 'buried': 18, 'vending': 18, 'pump': 17, 'license_classes': 17, 'community_centre': 16, 'disabled': 16, 'crossing': 15, 'entrance': 15, 'post_office': 14, 'seats': 14, 'brewery': 13, 'owner': 13, 'branch': 13, 'clothes': 13, 'socket': 13, 'emergency': 12, 'local_ref': 12, 'tourism': 12, 'rooms': 12, 'door': 12, 'circumference': 12, 'highway': 11, 'xmas': 11, 'taxon': 11, 'fitness_station': 11, 'artwork_type': 10, 'historic': 10, 'support': 10, 'last_checked': 10, 'mode_of_organisation': 10, 'artist': 10, 'provides': 10, 'bicycle': 9, 'toilets': 9, 'identity': 9, 'board_type': 9, 'uic_ref': 9, 'lamp_type': 9, 'created_by': 8, 'traffic_signals': 8, 'foot': 8, 'width': 8, 'surface': 8, 'advertising': 8, 'razed': 8, 'information': 8, 'origin': 8, 'kerb': 7, 'layer': 7, 'fee': 7, 'parking': 7, 'denotation': 7, 'natural': 7, 'theatre': 7, 'uic_name': 7, 'orientation': 7, 'ticket_validator': 7, 'light': 7, 'motor_vehicle': 6, 'traffic_calming': 6, 'vehicle': 6, 'smoking': 6, 'asb': 6, 'denomination': 6, 'voltage': 6, 'charge': 6, 'end_date': 6, 'government': 6, 'interaction': 6, 'board': 6, 'club': 6, 'waste': 6, 'lamp_flames': 6, 'tower': 6, 'manufacturer': 6, 'website2': 6, 'architect': 5, 'loc_name': 5, 'bollard': 5, 'outdoor_seating': 5, 'post_box': 5, 'cycle_barrier': 5, 'drink': 5, 'atm': 5, 'min_age': 5, 'bench': 5, 'power': 5, 'service': 5, 'ft_link': 5, 'shelter_type': 5, 'bicycle_rental': 5, 'mobile': 5, 'animated': 5, 'diameter': 5, 'gtfs_id': 5, 'tactile_paving': 4, 'public_transport': 4, 'religion': 4, 'diet': 4, 'payment': 4, 'covered': 4, 'abandoned': 4, 'place': 4, 'location': 4, 'recycling': 4, 'building': 4, 'leaf_cycle': 4, 'production_input': 4, 'roof': 4, 'construction': 4, 'reservation': 4, 'blind': 4, 'fountain': 4, 'drinking_water': 4, 'massage': 4, 'books': 4, 'lamp_mount': 4, 'maxstay': 4, 'product': 4, 'studio': 4, 'country': 4, 'defibrillator': 4, 'couplings': 4, 'automatic_door': 4, 'flag': 4, 'step_count': 4, 'heritage': 3, 'takeaway': 3, 'stars': 3, 'crossing_ref': 3, 'lit': 3, 'population': 3, 'organic': 3, 'self_service': 3, 'sides': 3, 'telecom': 3, 'leaf_type': 3, 'changing_table': 3, 'delivery': 3, 'health_facility': 3, 'dog': 3, 'supervised': 3, 'female': 3, 'second_hand': 3, 'display': 3, 'operational_status': 3, 'motorcycle': 3, 'hazard': 3, 'dogs': 3, 'street_cabinet': 3, 'shoes': 3, 'amperage': 3, 'topic': 3, 'restaurant': 3, 'visibility': 3, 'stop_line': 3, 'type': 3, 'faces': 3, 'lunch': 3, 'climbing': 3, 'buoy': 3, 'beauty': 3, 'stroller': 3, 'health_specialty': 3, 'message': 3, 'maxweight': 3, 'button_operated': 2, 'maxheight_referencelevel': 2, 'obstacle': 2, 'light_rail': 2, 'indoor_seating': 2, 'compressed_air': 2, 'air_conditioning': 2, 'station': 2, 'road_marking': 2, 'is_in': 2, 'fuel': 2, 'bar': 2, 'bin': 2, 'shelter': 2, 'backrest': 2, 'currency': 2, 'substation': 2, 'service_times': 2, 'hgv': 2, 'motorcar': 2, 'screen': 2, 'seating': 2, 'fair_trade': 2, 'male': 2, 'food': 2, 'indoor': 2, 'departures_board': 2, 'swing_gate': 2, 'microbrewery': 2, 'map_size': 2, 'map_type': 2, 'lgbtq': 2, 'gay': 2, 'cash_in': 2, 'carpenter': 2, 'cash_withdrawal': 2, 'parcel_mail_in': 2, 'highchair': 2, 'link': 2, 'maxspeed': 2, 'model': 2, 'smoothness': 2, 'luminous': 2, 'pitch': 2, 'billiards': 2, 'utility': 2, 'draft': 2, 'communication': 2, 'laundry_service': 2, 'museum': 2, 'lift_gate': 2, 'breakfast': 2, 'name_1': 2, 'cuisine_1': 2, 'locked': 2, 'reusable_packaging': 2, 'zero_waste': 2, 'facebook': 2, 'rental': 2, 'land_property': 2, 'monitoring': 2, 'recording': 2, 'diplomatic': 2, 'was': 2, 'sauna': 2, 'automated': 2, 'website3': 2, 'blood': 2, 'tree': 2, 'bottle': 2, 'training': 2, 'musical_instrument': 2, 'baby': 2, 'destroyed': 2, 'company': 2, 'shape': 2, 'seasonal': 2, 'markings': 2, 'app': 2, 'activation': 2, 'disaster_help_point': 2, 'train': 1, 'lda': 1, 'bus': 1, 'subway': 1, 'noexit': 1, 'sausage': 1, 'control': 1, 'dispensing': 1, 'drive_through': 1, 'sms': 1, 'psv': 1, 'max_age': 1, 'name_old': 1, 'count': 1, 'wifi': 1, 'cemetery': 1, 'tomb': 1, 'car_wash': 1, 'recycling_type': 1, 'bunker_type': 1, 'military': 1, 'onkz': 1, 'canoe': 1, 'state': 1, 'entrance_marker': 1, 'monument': 1, 'research_institution': 1, 'karaoke': 1, 'police': 1, 'regional': 1, 'medical_system': 1, 'centralkey': 1, 'unisex': 1, 'bus_routes': 1, 'call_box': 1, 'landuse': 1, 'tram': 1, 'bath': 1, 'brothel': 1, 'protected': 1, 'noname': 1, 'table_football': 1, 'menu': 1, 'repair': 1, 'ice_cream': 1, 'frequency': 1, 'authentication': 1, 'acc': 1, 'display_operated': 1, 'parcel_locker': 1, 'parcel_pickup': 1, 'education': 1, 'vattenfall_ref': 1, 'construction_year': 1, 'hiking': 1, 'mooring': 1, 'culture': 1, 'smoking_area': 1, 'shisha': 1, 'mast': 1, 'speed_camera': 1, 'music': 1, 'drive_in': 1, 'shop_1': 1, 'stop': 1, 'wholesale': 1, 'bulk_purchase': 1, 'kicker': 1, 'chicken': 1, 'revolving': 1, 'date': 1, 'elevator': 1, 'nightclub': 1, 'armrest': 1, 'viewpoint': 1, 'terrace': 1, 'gift': 1, 'horse': 1, 'alt_name1': 1, 'indoor_camping': 1, 'platforms': 1, 'insurance': 1, 'person': 1, 'opening': 1, 'overlap': 1, 'spacing': 1, 'survey_date': 1, 'coffee': 1, 'couchsurfing': 1, 'tactile_writing': 1, 'kids_area': 1, 'microroasting': 1, 'live_music': 1, 'preschool': 1, 'lat': 1, 'lon': 1, 'lamp': 1, 'min_height': 1, 'checked': 1, 'guest_house': 1, 'goods': 1, 'swimming_pool': 1, 'water_well': 1, 'esperanto': 1, 'language': 1, 'garden': 1, 'church': 1, 'consulting': 1, 'fridge': 1, 'full_name': 1, 'waste_basket': 1, 'embassy': 1, 'dead': 1, 'grave': 1, 'personal_trainer': 1, 'tunnel': 1, 'demolished': 1, 'donation': 1, 'instagram': 1, 'site': 1, 'exit': 1, 'room': 1, 'stairs': 1, 'tobacco': 1, 'pub': 1, 'remark': 1, 'reg': 1, 'video_games': 1, 'gambling': 1, 'lamp_model': 1, 'kinky': 1, 'pillar': 1, 'dinner': 1, 'charging_station': 1, 'music_genre': 1, 'aeroway': 1, 'ramp': 1, 'street_lamp': 1, 'power_supply': 1, 'artwork_group': 1, 'sponsor': 1, 'target': 1, 'opening_date': 1, 'number_of_apartments': 1, 'disease': 1, 'health_service': 1, 'length': 1, 'public_bookcase': 1, 'ownership': 1, 'bicycle_stand': 1, 'manhole': 1, 'lane_markings': 1, 'sidewalk': 1, 'cargo_bike': 1, 'water_source': 1, 'provided_for': 1, 'sample_collection': 1, 'isced': 1, 'cold_water': 1, 'mofa': 1, 'moped': 1, 'park_ride': 1, 'canoe_rental': 1, 'kayak_rental': 1, 'pedalboat_rental': 1, 'standup_paddleboard_rental': 1, 'piercing': 1, 'cycleway': 1, 'car_sharing': 1, 'small_electric_vehicle': 1, 'hairdresser': 1, 'fast_food': 1, 'emergency_ward_entrance': 1, 'fence_type': 1, 'handrail': 1, 'ferry': 1, 'ladder': 1, 'diy': 1, 'restriction': 1, 'computer': 1, 'zone': 1, 'prison_camp': 1, 'reg_name': 1, 'proposed': 1, 'planned': 1, 'destination': 1, 'antenna': 1, 'marker': 1, 'pipeline': 1, 'self_checkout': 1}\n"
     ]
    }
   ],
   "source": [
    "import json\n",
    "keys = []\n",
    "nodes = []\n",
    "for _, row in bounding_boxes.iterrows():\n",
    "    nodes.append(get_nodes_with_tags_in_bbox(list(row)))\n",
    "    tag_frequency = count_tag_frequency_new(nodes)\n",
    "    values_per_key = {k:len(v) for k, v in tag_frequency.items()}\n",
    "    values_per_key = {\n",
    "        k: v\n",
    "        for k, v in sorted(\n",
    "            values_per_key.items(), key=lambda item: item[1], reverse=True\n",
    "        )\n",
    "    }\n",
    "    print(values_per_key)\n",
    "    "
   ]
  },
  {
   "cell_type": "code",
   "execution_count": null,
   "metadata": {},
   "outputs": [],
   "source": [
    "\n",
    "dict(zip(places_gdf[\"display_name\"], places_gdf[\"projected_area\"]))"
   ]
  },
  {
   "cell_type": "code",
   "execution_count": null,
   "metadata": {},
   "outputs": [],
   "source": [
    "places_gdf[[\"projected_area\", \"area_unit\"]] = places_gdf.apply(lambda row: gdf_data(row, places_gdf.crs), axis=1)\n",
    "places_gdf"
   ]
  },
  {
   "cell_type": "code",
   "execution_count": null,
   "metadata": {},
   "outputs": [],
   "source": [
    "for _, row in bounding_boxes.iterrows():\n",
    "    nodes.append(get_nodes_with_tags_in_bbox(list(row)))\n",
    "    keys = list(count_tag_frequency(nodes).keys())\n",
    "keys"
   ]
  },
  {
   "cell_type": "code",
   "execution_count": null,
   "metadata": {},
   "outputs": [],
   "source": [
    "import utm\n",
    "from pyproj import CRS\n",
    "import geopandas as gpd\n",
    "def gdf_data(gdf):\n",
    "    \"\"\"Get the area of a polygon\n",
    "    This method is not directly callable by the LLM\"\"\"\n",
    "    places_dict = {}\n",
    "    for index, row in gdf.iterrows():\n",
    "        print(index)\n",
    "        utm_zone = utm.latlon_to_zone_number(gdf.loc[[index], \"lat\"].values[0], gdf.loc[[index], \"lon\"].values[0])\n",
    "        south = gdf.loc[[index], \"lat\"].values[0] < 0\n",
    "        crs = CRS.from_dict({\"proj\": \"utm\", \"zone\": utm_zone, \"south\": south})\n",
    "        epsg_code = crs.to_authority()[1]\n",
    "        unit = list({ai.unit_name for ai in crs.axis_info})[0]\n",
    "        gdf_projected = gdf.loc[[index],:].to_crs(epsg_code)\n",
    "        area = gdf_projected.area.values[0]\n",
    "        places_dict[row[\"display_name\"]] = {\"area\":area,\n",
    "                                            \"unit\":unit}\n",
    "\n",
    "    return places_dict"
   ]
  },
  {
   "cell_type": "code",
   "execution_count": null,
   "metadata": {},
   "outputs": [],
   "source": [
    "gdf_data(places_gdf)"
   ]
  },
  {
   "cell_type": "code",
   "execution_count": null,
   "metadata": {},
   "outputs": [],
   "source": []
  },
  {
   "cell_type": "code",
   "execution_count": null,
   "metadata": {},
   "outputs": [],
   "source": []
  }
 ],
 "metadata": {
  "kernelspec": {
   "display_name": "venv",
   "language": "python",
   "name": "python3"
  },
  "language_info": {
   "codemirror_mode": {
    "name": "ipython",
    "version": 3
   },
   "file_extension": ".py",
   "mimetype": "text/x-python",
   "name": "python",
   "nbconvert_exporter": "python",
   "pygments_lexer": "ipython3",
   "version": "3.10.8"
  },
  "orig_nbformat": 4
 },
 "nbformat": 4,
 "nbformat_minor": 2
}
